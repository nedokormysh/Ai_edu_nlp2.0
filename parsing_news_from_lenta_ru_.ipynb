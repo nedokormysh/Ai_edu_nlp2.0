{
  "metadata": {
    "kernelspec": {
      "language": "python",
      "display_name": "Python 3",
      "name": "python3"
    },
    "language_info": {
      "name": "python",
      "version": "3.7.9",
      "mimetype": "text/x-python",
      "codemirror_mode": {
        "name": "ipython",
        "version": 3
      },
      "pygments_lexer": "ipython3",
      "nbconvert_exporter": "python",
      "file_extension": ".py"
    },
    "colab": {
      "provenance": [],
      "include_colab_link": true
    }
  },
  "nbformat_minor": 0,
  "nbformat": 4,
  "cells": [
    {
      "cell_type": "markdown",
      "metadata": {
        "id": "view-in-github",
        "colab_type": "text"
      },
      "source": [
        "<a href=\"https://colab.research.google.com/github/nedokormysh/Stepik_Ai_edu_nlp2.0/blob/week_5_scraping_parsing/parsing_news_from_lenta_ru_.ipynb\" target=\"_parent\"><img src=\"https://colab.research.google.com/assets/colab-badge.svg\" alt=\"Open In Colab\"/></a>"
      ]
    },
    {
      "cell_type": "markdown",
      "source": [
        "# Парсер новостных текстов с сайтов РБК и Лента.ру"
      ],
      "metadata": {
        "id": "Kx_mHZLiyNEx"
      }
    },
    {
      "cell_type": "markdown",
      "source": [
        "## Импорт библиотек и описание классов"
      ],
      "metadata": {
        "id": "0fXGFtOYGtDL"
      }
    },
    {
      "cell_type": "code",
      "source": [
        "# Установка библиотек\n",
        "!pip install bs4\n",
        "!pip install openpyxl"
      ],
      "metadata": {
        "_kg_hide-output": true,
        "trusted": true,
        "colab": {
          "base_uri": "https://localhost:8080/"
        },
        "id": "bb4EXlhIGtDM",
        "outputId": "d28b0c8b-1b3f-4ddf-99d6-9543bdb6121c"
      },
      "execution_count": 21,
      "outputs": [
        {
          "output_type": "stream",
          "name": "stdout",
          "text": [
            "Requirement already satisfied: bs4 in /usr/local/lib/python3.10/dist-packages (0.0.1)\n",
            "Requirement already satisfied: beautifulsoup4 in /usr/local/lib/python3.10/dist-packages (from bs4) (4.11.2)\n",
            "Requirement already satisfied: soupsieve>1.2 in /usr/local/lib/python3.10/dist-packages (from beautifulsoup4->bs4) (2.5)\n",
            "Requirement already satisfied: openpyxl in /usr/local/lib/python3.10/dist-packages (3.1.2)\n",
            "Requirement already satisfied: et-xmlfile in /usr/local/lib/python3.10/dist-packages (from openpyxl) (1.1.0)\n"
          ]
        }
      ]
    },
    {
      "cell_type": "code",
      "source": [
        "# Импорт библиотек\n",
        "import requests as rq\n",
        "from bs4 import BeautifulSoup as bs\n",
        "import pandas as pd\n",
        "import numpy as np\n",
        "from datetime import datetime, timedelta\n",
        "from IPython import display"
      ],
      "metadata": {
        "trusted": true,
        "id": "MRBYRFbfGtDN"
      },
      "execution_count": 22,
      "outputs": []
    },
    {
      "cell_type": "markdown",
      "source": [
        "Ниже описаны классы для извлечения данных.\n",
        "\n",
        "Используются поисковые движки сайтов, возвращающие по запросу json таблицы с информацией о статьях.\n",
        "\n",
        "При их использовании есть различные ограничения, например, на количество статей в запросе. Так на сайте РБК выдается максимум 100 статей, в то время как на Ленте.ру можно получить сразу 1000. По моим наблюдениям, запросы на Лента.ру ограничены временем, и соответственно, точное ограничение найти не получится. Более того, на Лента.ру сразу выдается текст статьи в json таблице, с РБК приходится дополнительно парсить текст со страниц.  "
      ],
      "metadata": {
        "id": "KyqHuqc3GtDN"
      }
    },
    {
      "cell_type": "markdown",
      "source": [
        "### Парсер для Лента.ру"
      ],
      "metadata": {
        "id": "LeQM8iWjGtDO"
      }
    },
    {
      "cell_type": "code",
      "source": [
        "class lentaRu_parser:\n",
        "    def __init__(self):\n",
        "        pass\n",
        "\n",
        "    def _get_url(self, param_dict: dict) -> str:\n",
        "        \"\"\"\n",
        "        Возвращает URL для запроса json таблицы со статьями\n",
        "\n",
        "        url = 'https://lenta.ru/search/v2/process?'\\\n",
        "        + 'from=0&'\\                       # Смещение\n",
        "        + 'size=1000&'\\                    # Кол-во статей\n",
        "        + 'sort=2&'\\                       # Сортировка по дате (2), по релевантности (1)\n",
        "        + 'title_only=0&'\\                 # Точная фраза в заголовке\n",
        "        + 'domain=1&'\\                     # ??\n",
        "        + 'modified%2Cformat=yyyy-MM-dd&'\\ # Формат даты\n",
        "        + 'type=1&'\\                       # Материалы. Все материалы (0). Новость (1)\n",
        "        + 'bloc=4&'\\                       # Рубрика. Экономика (4). Все рубрики (0)\n",
        "        + 'modified%2Cfrom=2020-01-01&'\\\n",
        "        + 'modified%2Cto=2020-11-01&'\\\n",
        "        + 'query='                         # Поисковой запрос\n",
        "        \"\"\"\n",
        "        hasType = int(param_dict[\"type\"]) != 0\n",
        "        hasBloc = int(param_dict[\"bloc\"]) != 0\n",
        "\n",
        "        url = (\n",
        "            \"https://lenta.ru/search/v2/process?\"\n",
        "            + \"from={}&\".format(param_dict[\"from\"])\n",
        "            + \"size={}&\".format(param_dict[\"size\"])\n",
        "            + \"sort={}&\".format(param_dict[\"sort\"])\n",
        "            + \"title_only={}&\".format(param_dict[\"title_only\"])\n",
        "            + \"domain={}&\".format(param_dict[\"domain\"])\n",
        "            + \"modified%2Cformat=yyyy-MM-dd&\"\n",
        "            + \"type={}&\".format(param_dict[\"type\"]) * hasType\n",
        "            + \"bloc={}&\".format(param_dict[\"bloc\"]) * hasBloc\n",
        "            + \"modified%2Cfrom={}&\".format(param_dict[\"dateFrom\"])\n",
        "            + \"modified%2Cto={}&\".format(param_dict[\"dateTo\"])\n",
        "            + \"query={}\".format(param_dict[\"query\"])\n",
        "        )\n",
        "\n",
        "        return url\n",
        "\n",
        "    def _get_search_table(self, param_dict: dict) -> pd.DataFrame:\n",
        "        \"\"\"\n",
        "        Возвращает pd.DataFrame со списком статей\n",
        "        \"\"\"\n",
        "        url = self._get_url(param_dict)\n",
        "        r = rq.get(url)\n",
        "        search_table = pd.DataFrame(r.json()[\"matches\"])\n",
        "\n",
        "        return search_table\n",
        "\n",
        "    def get_articles(\n",
        "        self, param_dict, time_step=37, save_every=5, save_excel=True\n",
        "    ) -> pd.DataFrame:\n",
        "        \"\"\"\n",
        "        Функция для скачивания статей интервалами через каждые time_step дней\n",
        "        Делает сохранение таблицы через каждые save_every * time_step дней\n",
        "\n",
        "        param_dict: dict\n",
        "        ### Параметры запроса\n",
        "        ###### project - раздел поиска, например, rbcnews\n",
        "        ###### category - категория поиска, например, TopRbcRu_economics\n",
        "        ###### dateFrom - с даты\n",
        "        ###### dateTo - по дату\n",
        "        ###### offset - смещение поисковой выдачи\n",
        "        ###### limit - лимит статей, максимум 100\n",
        "        ###### query - поисковой запрос (ключевое слово), например, РБК\n",
        "\n",
        "        \"\"\"\n",
        "        param_copy = param_dict.copy()\n",
        "        time_step = timedelta(days=time_step)\n",
        "        dateFrom = datetime.strptime(param_copy[\"dateFrom\"], \"%Y-%m-%d\")\n",
        "        dateTo = datetime.strptime(param_copy[\"dateTo\"], \"%Y-%m-%d\")\n",
        "        if dateFrom > dateTo:\n",
        "            raise ValueError(\"dateFrom should be less than dateTo\")\n",
        "\n",
        "        out = pd.DataFrame()\n",
        "        save_counter = 0\n",
        "\n",
        "        while dateFrom <= dateTo:\n",
        "            param_copy[\"dateTo\"] = (dateFrom + time_step).strftime(\"%Y-%m-%d\")\n",
        "            if dateFrom + time_step > dateTo:\n",
        "                param_copy[\"dateTo\"] = dateTo.strftime(\"%Y-%m-%d\")\n",
        "            print(\n",
        "                \"Parsing articles from \"\n",
        "                + param_copy[\"dateFrom\"]\n",
        "                + \" to \"\n",
        "                + param_copy[\"dateTo\"]\n",
        "            )\n",
        "            out = out.append(self._get_search_table(param_copy), ignore_index=True)\n",
        "            dateFrom += time_step + timedelta(days=1)\n",
        "            param_copy[\"dateFrom\"] = dateFrom.strftime(\"%Y-%m-%d\")\n",
        "            save_counter += 1\n",
        "            if save_counter == save_every:\n",
        "                display.clear_output(wait=True)\n",
        "                out.to_excel(\"/tmp/checkpoint_table.xlsx\")\n",
        "                print(\"Checkpoint saved!\")\n",
        "                save_counter = 0\n",
        "\n",
        "        if save_excel:\n",
        "            out.to_excel(\n",
        "                \"lenta_{}_{}.xlsx\".format(param_dict[\"dateFrom\"], param_dict[\"dateTo\"])\n",
        "            )\n",
        "        print(\"Finish\")\n",
        "\n",
        "        return out"
      ],
      "metadata": {
        "id": "xYqhPr1yRjQY",
        "trusted": true
      },
      "execution_count": 23,
      "outputs": []
    },
    {
      "cell_type": "markdown",
      "source": [
        "## Пример выгрузки данных"
      ],
      "metadata": {
        "id": "SUh2QnpZGtDP"
      }
    },
    {
      "cell_type": "markdown",
      "source": [
        "### Лента.ру\n",
        "\n",
        "* __query__ - поисковой запрос (ключевое слово)\n",
        "\n",
        "* __offset__ - cмещение поисковой выдачи (от 0 до __size__)\n",
        "\n",
        "* __size__ - количество статей. Ограничено время запроса, точного лимита нет. 1000 работает почти всегда\n",
        "\n",
        "* __sort__ - сортировка по дате: (2) - по убыванию, (3) - по возрастанию; по релевантности (1)\n",
        "\n",
        "* __title_only__ - точная фраза в заголовке (1)\n",
        "\n",
        "* __domain__ - ?\n",
        "\n",
        "* __material__ - материалы: Все материалы (0). Новость (1). [\"0\", \"1\", \"2\", \"3\", \"4\", ...]\n",
        "\n",
        "* __block__ - рубрика: Экономика (4). Все рубрики (0). [\"0\", \"1\", \"2\", \"3\", \"4\", ...]\n",
        "\n",
        "* __dateFrom__ - с даты\n",
        "\n",
        "* __dateTo__ - по дату\n",
        "\n",
        "_Чтобы не специфировать параметр, оставляем поле пустым_"
      ],
      "metadata": {
        "id": "qRB5y6AqGtDQ"
      }
    },
    {
      "cell_type": "code",
      "source": [
        "use_parser = \"LentaRu\"\n",
        "\n",
        "query = \"\"\n",
        "offset = 0\n",
        "size = 1000\n",
        "sort = \"3\"\n",
        "title_only = \"0\"\n",
        "domain = \"1\"\n",
        "material = \"0\"\n",
        "bloc = \"0\"\n",
        "dateFrom = \"2016-01-01\"\n",
        "dateTo = \"2023-10-21\"\n",
        "\n",
        "if use_parser == \"LentaRu\":\n",
        "    param_dict = {\n",
        "        \"query\": query,\n",
        "        \"from\": str(offset),\n",
        "        \"size\": str(size),\n",
        "        \"dateFrom\": dateFrom,\n",
        "        \"dateTo\": dateTo,\n",
        "        \"sort\": sort,\n",
        "        \"title_only\": title_only,\n",
        "        \"type\": material,\n",
        "        \"bloc\": bloc,\n",
        "        \"domain\": domain,\n",
        "    }\n",
        "\n",
        "print(use_parser, \"- param_dict:\", param_dict)"
      ],
      "metadata": {
        "trusted": true,
        "colab": {
          "base_uri": "https://localhost:8080/"
        },
        "id": "CicwbjWpGtDQ",
        "outputId": "80fafefc-ca10-4f95-9588-1d7acda9c0e0"
      },
      "execution_count": 24,
      "outputs": [
        {
          "output_type": "stream",
          "name": "stdout",
          "text": [
            "LentaRu - param_dict: {'query': '', 'from': '0', 'size': '1000', 'dateFrom': '2016-01-01', 'dateTo': '2023-10-21', 'sort': '3', 'title_only': '0', 'type': '0', 'bloc': '0', 'domain': '1'}\n"
          ]
        }
      ]
    },
    {
      "cell_type": "code",
      "source": [
        "# Тоже будем собирать итеративно, правда можно ставить time_step побольше, т.к.\n",
        "# больше лимит на запрос статей. И Работает быстрее :)\n",
        "assert use_parser == \"LentaRu\"\n",
        "parser = lentaRu_parser()\n",
        "tbl = parser.get_articles(\n",
        "    param_dict=param_dict, time_step=37, save_every=5, save_excel=True\n",
        ")\n",
        "print(len(tbl.index))"
      ],
      "metadata": {
        "id": "_P68Sk0BpsOa",
        "outputId": "dd4d02fe-0e57-4a1e-f33f-c324115d6986",
        "trusted": true,
        "colab": {
          "base_uri": "https://localhost:8080/"
        }
      },
      "execution_count": 25,
      "outputs": [
        {
          "output_type": "stream",
          "name": "stdout",
          "text": [
            "Checkpoint saved!\n",
            "Parsing articles from 2023-10-21 to 2023-10-21\n"
          ]
        },
        {
          "output_type": "stream",
          "name": "stderr",
          "text": [
            "<ipython-input-23-e7bc6880237a>:90: FutureWarning: The frame.append method is deprecated and will be removed from pandas in a future version. Use pandas.concat instead.\n",
            "  out = out.append(self._get_search_table(param_copy), ignore_index=True)\n"
          ]
        },
        {
          "output_type": "stream",
          "name": "stdout",
          "text": [
            "Finish\n",
            "75236\n"
          ]
        }
      ]
    },
    {
      "cell_type": "code",
      "source": [
        "# tbl.head()"
      ],
      "metadata": {
        "id": "IZch1-woAU4m"
      },
      "execution_count": 26,
      "outputs": []
    },
    {
      "cell_type": "code",
      "source": [
        "tbl.shape"
      ],
      "metadata": {
        "id": "R17TPxlBOScS",
        "outputId": "91bbc3ac-8be9-41fc-cc52-edbbbb00732f",
        "colab": {
          "base_uri": "https://localhost:8080/"
        }
      },
      "execution_count": 27,
      "outputs": [
        {
          "output_type": "execute_result",
          "data": {
            "text/plain": [
              "(75236, 16)"
            ]
          },
          "metadata": {},
          "execution_count": 27
        }
      ]
    },
    {
      "cell_type": "code",
      "source": [
        "tbl.to_excel('lenta75000.xlsx',)"
      ],
      "metadata": {
        "id": "EqoFDLu_OKU8"
      },
      "execution_count": 28,
      "outputs": []
    }
  ]
}