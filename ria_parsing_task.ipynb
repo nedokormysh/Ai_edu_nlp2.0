{
  "cells": [
    {
      "cell_type": "markdown",
      "metadata": {
        "id": "view-in-github",
        "colab_type": "text"
      },
      "source": [
        "<a href=\"https://colab.research.google.com/github/nedokormysh/Stepik_Ai_edu_nlp2.0/blob/week_5_scraping_parsing/ria_parsing_task.ipynb\" target=\"_parent\"><img src=\"https://colab.research.google.com/assets/colab-badge.svg\" alt=\"Open In Colab\"/></a>"
      ]
    },
    {
      "cell_type": "markdown",
      "metadata": {
        "id": "L_2Vw-KDXPz8"
      },
      "source": [
        "# Сбор данных с сайта РИА Новости\n",
        "\n",
        "*Ноутбук сделан по мотивам ноутбука авторства Марии Гольдштейн и Кирилла Долматова.*"
      ]
    },
    {
      "cell_type": "markdown",
      "source": [
        "Установим и импортируем необходимые библиотеки."
      ],
      "metadata": {
        "id": "HKobA31maNy9"
      }
    },
    {
      "cell_type": "code",
      "execution_count": 1,
      "metadata": {
        "id": "4OpzfTAm9tKW"
      },
      "outputs": [],
      "source": [
        "%%capture\n",
        "!pip install selenium"
      ]
    },
    {
      "cell_type": "code",
      "execution_count": 2,
      "metadata": {
        "id": "sLvaFNoGXPz-"
      },
      "outputs": [],
      "source": [
        "import re\n",
        "import time\n",
        "import datetime\n",
        "import pandas as pd\n",
        "import warnings\n",
        "from tqdm import tqdm\n",
        "from bs4 import BeautifulSoup\n",
        "from selenium import webdriver\n",
        "from dataclasses import dataclass\n",
        "\n",
        "warnings.filterwarnings(\"ignore\", category=FutureWarning)"
      ]
    },
    {
      "cell_type": "markdown",
      "source": [
        "Далее зададим необходимые константы.\n",
        "\n",
        "`DEPTH` - число страниц для скрапинга"
      ],
      "metadata": {
        "id": "eyVielmCqvYz"
      }
    },
    {
      "cell_type": "code",
      "execution_count": 3,
      "metadata": {
        "id": "Et9aXr_AXPz_"
      },
      "outputs": [],
      "source": [
        "SLEEP = 2\n",
        "DEPTH = 20\n",
        "BASE_URL = \"https://ria.ru/\"\n",
        "TOPICS = [\"economy\", \"society\", \"incidents\", \"science\", \"culture\"]"
      ]
    },
    {
      "cell_type": "code",
      "execution_count": 4,
      "metadata": {
        "id": "12FLG9pcXPz_"
      },
      "outputs": [],
      "source": [
        "@dataclass\n",
        "class Article:\n",
        "    id: str = None\n",
        "    url: str = None\n",
        "    title: str = None\n",
        "    subtitle: str = None\n",
        "    content: str = None\n",
        "    datetime: str = None"
      ]
    },
    {
      "cell_type": "code",
      "execution_count": 5,
      "metadata": {
        "id": "WkccHzEPXPz_"
      },
      "outputs": [],
      "source": [
        "# set webdriver params\n",
        "chrome_options = webdriver.ChromeOptions()\n",
        "chrome_options.add_argument(\"--blink-settings=imagesEnabled=false\")\n",
        "chrome_options.add_argument(\"headless\")\n",
        "chrome_options.add_argument(\"no-sandbox\")\n",
        "chrome_options.add_argument(\"disable-dev-shm-usage\")\n",
        "driver = webdriver.Chrome(options=chrome_options)"
      ]
    },
    {
      "cell_type": "markdown",
      "source": [
        "Посмотрим на функцию для скачивания страниц."
      ],
      "metadata": {
        "id": "9BMldxbBZphZ"
      }
    },
    {
      "cell_type": "code",
      "execution_count": 6,
      "metadata": {
        "id": "97RgMNehXPz_"
      },
      "outputs": [],
      "source": [
        "def get_pages():\n",
        "\n",
        "    \"\"\"Load and scroll pages\"\"\"\n",
        "\n",
        "    items, topics_order = [], []\n",
        "\n",
        "    for topic in tqdm(TOPICS):\n",
        "        try:\n",
        "            old_size = len(items)\n",
        "            URL = BASE_URL + topic\n",
        "            driver.get(URL)\n",
        "            time.sleep(SLEEP)\n",
        "\n",
        "            # push to list 20 next articles\n",
        "            driver.execute_script(\n",
        "                \"document.getElementsByClassName('list-more')[0].click()\"\n",
        "            )\n",
        "            time.sleep(1)\n",
        "\n",
        "            # scroll page to automatically load more articles\n",
        "            for i in tqdm(range(DEPTH), leave=False):\n",
        "                try:\n",
        "                    driver.execute_script(\n",
        "                        f\"window.scrollTo(0, document.body.scrollHeight - 1200)\"\n",
        "                    )\n",
        "                    time.sleep(1)\n",
        "                except:\n",
        "                    pass\n",
        "\n",
        "            # find all pages\n",
        "            html = driver.page_source\n",
        "            soup = BeautifulSoup(html, \"html.parser\")\n",
        "            scope = soup.find(\n",
        "                \"div\", {\"class\": \"list\", \"itemtype\": \"http://schema.org/ItemList\"}\n",
        "            )\n",
        "            items += scope.find_all(\"div\", {\"class\": \"list-item\"})\n",
        "\n",
        "            # number of pages can not be multiple of deepth*20\n",
        "            # that's why we count topics_order dynamically\n",
        "            new_size = len(items)\n",
        "            if new_size > old_size:\n",
        "                topics_order.extend([topic] * (new_size - old_size))\n",
        "        except:\n",
        "            pass\n",
        "\n",
        "    return items, topics_order"
      ]
    },
    {
      "cell_type": "markdown",
      "source": [
        "Посмотрим на функцию для парсинга скачанных страниц."
      ],
      "metadata": {
        "id": "29TbDDVZZyMt"
      }
    },
    {
      "cell_type": "code",
      "execution_count": 7,
      "metadata": {
        "id": "sV-n6jw9XP0A"
      },
      "outputs": [],
      "source": [
        "def parse_page(page):\n",
        "    \"\"\"Extract from page desired fields\"\"\"\n",
        "\n",
        "    # Create article data class object\n",
        "    article = Article()\n",
        "\n",
        "    # article url\n",
        "    article.url = page.find(\"a\", {\"class\": \"list-item__image\"})[\"href\"]\n",
        "\n",
        "    # article id\n",
        "    s = re.findall(r\"\\d+.html\", article.url)[0]\n",
        "    article.id = s[: s.find(\".\")]\n",
        "\n",
        "    # load page\n",
        "    driver.get(article.url)\n",
        "    time.sleep(SLEEP)\n",
        "    html = driver.page_source\n",
        "\n",
        "    # article source\n",
        "    source = article.url[8 : article.url.find(\".\")]\n",
        "\n",
        "    # article object\n",
        "    soup = BeautifulSoup(html, \"html.parser\")\n",
        "    obj = soup.find(\n",
        "        \"div\",\n",
        "        {\n",
        "            \"class\": lambda x: x and (x.find(f\"article m-article m-{source}\") > -1),\n",
        "            \"data-article-id\": article.id,\n",
        "        },\n",
        "    )\n",
        "\n",
        "    if not obj:\n",
        "        obj = soup.find(\n",
        "            \"div\",\n",
        "            {\n",
        "                \"class\": lambda x: x and (x.find(f\"article m-video m-{source}\") > -1),\n",
        "                \"data-article-id\": article.id,\n",
        "            },\n",
        "        )\n",
        "\n",
        "    # process article title\n",
        "    title = obj.find(\"div\", {\"class\": \"article__title\"})\n",
        "    title_2 = obj.find(\"h1\", {\"class\": \"article__title\"})\n",
        "\n",
        "    if title:\n",
        "        article.title = title.text\n",
        "    else:\n",
        "        article.title = title_2.text if title_2 else \"\"\n",
        "\n",
        "    # article subtitle\n",
        "    subtitle = obj.find(\"h1\", {\"class\": \"article__second-title\"})\n",
        "    article.subtitle = subtitle.text if subtitle else \"\"\n",
        "\n",
        "    # article content\n",
        "    article.content = obj.find(\n",
        "        \"div\", {\"class\": \"article__body js-mediator-article mia-analytics\"}\n",
        "    ).text\n",
        "\n",
        "    # article datetime\n",
        "    article.datetime = obj.find(\"div\", {\"class\": \"article__info-date\"}).find(\"a\").text\n",
        "\n",
        "    # article number of views\n",
        "    # article.views = int(obj.find('span', {'class': 'statistic__item m-views'}).text)\n",
        "\n",
        "    return article"
      ]
    },
    {
      "cell_type": "markdown",
      "source": [
        "Скачаем новости (количество регулируется константой DEPTH выше)."
      ],
      "metadata": {
        "id": "HX8gnfu1Z2F7"
      }
    },
    {
      "cell_type": "code",
      "execution_count": 8,
      "metadata": {
        "collapsed": true,
        "id": "fRINr7HSXP0A",
        "jupyter": {
          "outputs_hidden": true
        },
        "tags": [],
        "outputId": "f0496bcc-5522-48e3-a0f7-b1f8d53f341c",
        "colab": {
          "base_uri": "https://localhost:8080/"
        }
      },
      "outputs": [
        {
          "output_type": "stream",
          "name": "stderr",
          "text": [
            "  0%|          | 0/5 [00:00<?, ?it/s]\n",
            "  0%|          | 0/20 [00:00<?, ?it/s]\u001b[A\n",
            "  5%|▌         | 1/20 [00:01<00:19,  1.02s/it]\u001b[A\n",
            " 10%|█         | 2/20 [00:02<00:18,  1.02s/it]\u001b[A\n",
            " 15%|█▌        | 3/20 [00:03<00:17,  1.02s/it]\u001b[A\n",
            " 20%|██        | 4/20 [00:04<00:16,  1.03s/it]\u001b[A\n",
            " 25%|██▌       | 5/20 [00:05<00:15,  1.03s/it]\u001b[A\n",
            " 30%|███       | 6/20 [00:06<00:14,  1.03s/it]\u001b[A\n",
            " 35%|███▌      | 7/20 [00:07<00:13,  1.03s/it]\u001b[A\n",
            " 40%|████      | 8/20 [00:08<00:12,  1.03s/it]\u001b[A\n",
            " 45%|████▌     | 9/20 [00:09<00:11,  1.03s/it]\u001b[A\n",
            " 50%|█████     | 10/20 [00:10<00:10,  1.03s/it]\u001b[A\n",
            " 55%|█████▌    | 11/20 [00:11<00:09,  1.03s/it]\u001b[A\n",
            " 60%|██████    | 12/20 [00:12<00:08,  1.03s/it]\u001b[A\n",
            " 65%|██████▌   | 13/20 [00:13<00:07,  1.03s/it]\u001b[A\n",
            " 70%|███████   | 14/20 [00:14<00:06,  1.03s/it]\u001b[A\n",
            " 75%|███████▌  | 15/20 [00:15<00:05,  1.05s/it]\u001b[A\n",
            " 80%|████████  | 16/20 [00:16<00:04,  1.06s/it]\u001b[A\n",
            " 85%|████████▌ | 17/20 [00:17<00:03,  1.06s/it]\u001b[A\n",
            " 90%|█████████ | 18/20 [00:18<00:02,  1.07s/it]\u001b[A\n",
            " 95%|█████████▌| 19/20 [00:19<00:01,  1.06s/it]\u001b[A\n",
            "100%|██████████| 20/20 [00:20<00:00,  1.05s/it]\u001b[A\n",
            " 20%|██        | 1/5 [00:30<02:01, 30.25s/it]\n",
            "  0%|          | 0/20 [00:00<?, ?it/s]\u001b[A\n",
            "  5%|▌         | 1/20 [00:01<00:19,  1.02s/it]\u001b[A\n",
            " 10%|█         | 2/20 [00:02<00:18,  1.02s/it]\u001b[A\n",
            " 15%|█▌        | 3/20 [00:03<00:17,  1.02s/it]\u001b[A\n",
            " 20%|██        | 4/20 [00:04<00:16,  1.02s/it]\u001b[A\n",
            " 25%|██▌       | 5/20 [00:05<00:15,  1.02s/it]\u001b[A\n",
            " 30%|███       | 6/20 [00:06<00:14,  1.02s/it]\u001b[A\n",
            " 35%|███▌      | 7/20 [00:07<00:13,  1.02s/it]\u001b[A\n",
            " 40%|████      | 8/20 [00:08<00:12,  1.02s/it]\u001b[A\n",
            " 45%|████▌     | 9/20 [00:09<00:11,  1.02s/it]\u001b[A\n",
            " 50%|█████     | 10/20 [00:10<00:10,  1.02s/it]\u001b[A\n",
            " 55%|█████▌    | 11/20 [00:11<00:09,  1.03s/it]\u001b[A\n",
            " 60%|██████    | 12/20 [00:12<00:08,  1.03s/it]\u001b[A\n",
            " 65%|██████▌   | 13/20 [00:13<00:07,  1.03s/it]\u001b[A\n",
            " 70%|███████   | 14/20 [00:14<00:06,  1.03s/it]\u001b[A\n",
            " 75%|███████▌  | 15/20 [00:15<00:05,  1.03s/it]\u001b[A\n",
            " 80%|████████  | 16/20 [00:16<00:04,  1.03s/it]\u001b[A\n",
            " 85%|████████▌ | 17/20 [00:17<00:03,  1.03s/it]\u001b[A\n",
            " 90%|█████████ | 18/20 [00:18<00:02,  1.03s/it]\u001b[A\n",
            " 95%|█████████▌| 19/20 [00:19<00:01,  1.03s/it]\u001b[A\n",
            "100%|██████████| 20/20 [00:20<00:00,  1.03s/it]\u001b[A\n",
            " 40%|████      | 2/5 [00:57<01:25, 28.40s/it]\n",
            "  0%|          | 0/20 [00:00<?, ?it/s]\u001b[A\n",
            "  5%|▌         | 1/20 [00:01<00:19,  1.05s/it]\u001b[A\n",
            " 10%|█         | 2/20 [00:02<00:18,  1.03s/it]\u001b[A\n",
            " 15%|█▌        | 3/20 [00:03<00:17,  1.04s/it]\u001b[A\n",
            " 20%|██        | 4/20 [00:04<00:16,  1.03s/it]\u001b[A\n",
            " 25%|██▌       | 5/20 [00:05<00:15,  1.03s/it]\u001b[A\n",
            " 30%|███       | 6/20 [00:06<00:14,  1.02s/it]\u001b[A\n",
            " 35%|███▌      | 7/20 [00:07<00:13,  1.02s/it]\u001b[A\n",
            " 40%|████      | 8/20 [00:08<00:12,  1.02s/it]\u001b[A\n",
            " 45%|████▌     | 9/20 [00:09<00:11,  1.02s/it]\u001b[A\n",
            " 50%|█████     | 10/20 [00:10<00:10,  1.02s/it]\u001b[A\n",
            " 55%|█████▌    | 11/20 [00:11<00:09,  1.02s/it]\u001b[A\n",
            " 60%|██████    | 12/20 [00:12<00:08,  1.02s/it]\u001b[A\n",
            " 65%|██████▌   | 13/20 [00:13<00:07,  1.02s/it]\u001b[A\n",
            " 70%|███████   | 14/20 [00:14<00:06,  1.02s/it]\u001b[A\n",
            " 75%|███████▌  | 15/20 [00:15<00:05,  1.03s/it]\u001b[A\n",
            " 80%|████████  | 16/20 [00:16<00:04,  1.03s/it]\u001b[A\n",
            " 85%|████████▌ | 17/20 [00:17<00:03,  1.03s/it]\u001b[A\n",
            " 90%|█████████ | 18/20 [00:18<00:02,  1.03s/it]\u001b[A\n",
            " 95%|█████████▌| 19/20 [00:19<00:01,  1.03s/it]\u001b[A\n",
            "100%|██████████| 20/20 [00:20<00:00,  1.04s/it]\u001b[A\n",
            " 60%|██████    | 3/5 [01:23<00:54, 27.44s/it]\n",
            "  0%|          | 0/20 [00:00<?, ?it/s]\u001b[A\n",
            "  5%|▌         | 1/20 [00:01<00:19,  1.02s/it]\u001b[A\n",
            " 10%|█         | 2/20 [00:02<00:18,  1.02s/it]\u001b[A\n",
            " 15%|█▌        | 3/20 [00:03<00:17,  1.03s/it]\u001b[A\n",
            " 20%|██        | 4/20 [00:04<00:16,  1.03s/it]\u001b[A\n",
            " 25%|██▌       | 5/20 [00:05<00:15,  1.04s/it]\u001b[A\n",
            " 30%|███       | 6/20 [00:06<00:14,  1.04s/it]\u001b[A\n",
            " 35%|███▌      | 7/20 [00:07<00:13,  1.08s/it]\u001b[A\n",
            " 40%|████      | 8/20 [00:08<00:12,  1.06s/it]\u001b[A\n",
            " 45%|████▌     | 9/20 [00:09<00:11,  1.04s/it]\u001b[A\n",
            " 50%|█████     | 10/20 [00:10<00:10,  1.04s/it]\u001b[A\n",
            " 55%|█████▌    | 11/20 [00:11<00:09,  1.03s/it]\u001b[A\n",
            " 60%|██████    | 12/20 [00:12<00:08,  1.03s/it]\u001b[A\n",
            " 65%|██████▌   | 13/20 [00:13<00:07,  1.03s/it]\u001b[A\n",
            " 70%|███████   | 14/20 [00:14<00:06,  1.02s/it]\u001b[A\n",
            " 75%|███████▌  | 15/20 [00:15<00:05,  1.03s/it]\u001b[A\n",
            " 80%|████████  | 16/20 [00:16<00:04,  1.02s/it]\u001b[A\n",
            " 85%|████████▌ | 17/20 [00:17<00:03,  1.02s/it]\u001b[A\n",
            " 90%|█████████ | 18/20 [00:18<00:02,  1.02s/it]\u001b[A\n",
            " 95%|█████████▌| 19/20 [00:19<00:01,  1.03s/it]\u001b[A\n",
            "100%|██████████| 20/20 [00:20<00:00,  1.03s/it]\u001b[A\n",
            " 80%|████████  | 4/5 [01:51<00:27, 27.47s/it]\n",
            "  0%|          | 0/20 [00:00<?, ?it/s]\u001b[A\n",
            "  5%|▌         | 1/20 [00:01<00:19,  1.01s/it]\u001b[A\n",
            " 10%|█         | 2/20 [00:02<00:18,  1.01s/it]\u001b[A\n",
            " 15%|█▌        | 3/20 [00:03<00:17,  1.01s/it]\u001b[A\n",
            " 20%|██        | 4/20 [00:04<00:16,  1.02s/it]\u001b[A\n",
            " 25%|██▌       | 5/20 [00:05<00:15,  1.02s/it]\u001b[A\n",
            " 30%|███       | 6/20 [00:06<00:14,  1.02s/it]\u001b[A\n",
            " 35%|███▌      | 7/20 [00:07<00:13,  1.02s/it]\u001b[A\n",
            " 40%|████      | 8/20 [00:08<00:12,  1.02s/it]\u001b[A\n",
            " 45%|████▌     | 9/20 [00:09<00:11,  1.04s/it]\u001b[A\n",
            " 50%|█████     | 10/20 [00:10<00:10,  1.03s/it]\u001b[A\n",
            " 55%|█████▌    | 11/20 [00:11<00:09,  1.03s/it]\u001b[A\n",
            " 60%|██████    | 12/20 [00:12<00:08,  1.03s/it]\u001b[A\n",
            " 65%|██████▌   | 13/20 [00:13<00:07,  1.02s/it]\u001b[A\n",
            " 70%|███████   | 14/20 [00:14<00:06,  1.02s/it]\u001b[A\n",
            " 75%|███████▌  | 15/20 [00:15<00:05,  1.02s/it]\u001b[A\n",
            " 80%|████████  | 16/20 [00:16<00:04,  1.02s/it]\u001b[A\n",
            " 85%|████████▌ | 17/20 [00:17<00:03,  1.02s/it]\u001b[A\n",
            " 90%|█████████ | 18/20 [00:18<00:02,  1.02s/it]\u001b[A\n",
            " 95%|█████████▌| 19/20 [00:19<00:01,  1.02s/it]\u001b[A\n",
            "100%|██████████| 20/20 [00:20<00:00,  1.02s/it]\u001b[A\n",
            "100%|██████████| 5/5 [02:17<00:00, 27.49s/it]\n"
          ]
        }
      ],
      "source": [
        "# get pages and topics\n",
        "pages, topics_order = get_pages()"
      ]
    },
    {
      "cell_type": "markdown",
      "source": [
        "Сохраним результат в файл."
      ],
      "metadata": {
        "id": "uY5KK61CaU1H"
      }
    },
    {
      "cell_type": "code",
      "execution_count": 9,
      "metadata": {
        "id": "WQp5JS2vMF3e"
      },
      "outputs": [],
      "source": [
        "with open(\"ria_pages.txt\", \"w\", encoding=\"utf-8\") as f:\n",
        "    for page in pages:\n",
        "        f.write(\"%s\\n\" % page)"
      ]
    },
    {
      "cell_type": "markdown",
      "source": [
        "## Вопрос 1\n",
        "\n",
        "Сколько страниц `pages` мы спарсили?"
      ],
      "metadata": {
        "id": "1aa9QR9yqEUu"
      }
    },
    {
      "cell_type": "code",
      "execution_count": 10,
      "metadata": {
        "id": "s_VA_yIEHpTg",
        "outputId": "352f173f-4d52-4a91-ee3e-fd61e62a1d61",
        "colab": {
          "base_uri": "https://localhost:8080/"
        }
      },
      "outputs": [
        {
          "output_type": "execute_result",
          "data": {
            "text/plain": [
              "1488"
            ]
          },
          "metadata": {},
          "execution_count": 10
        }
      ],
      "source": [
        "len(pages)"
      ]
    },
    {
      "cell_type": "markdown",
      "source": [
        "Распарсим каждую страницу и достанем из нее необходимые атрибуты:\n",
        "\n",
        "* в цикле примените функцию `parse_page` к каждой странице и сохраните результат в объект `res`\n",
        "\n",
        "* затем добавьте `res` в список `data`\n",
        "\n",
        "\n",
        "Для скорости распарсим только первые 100 страниц."
      ],
      "metadata": {
        "id": "boJAYgYtqKc2"
      }
    },
    {
      "cell_type": "code",
      "execution_count": 12,
      "metadata": {
        "id": "M42AfMsIXP0A",
        "scrolled": true,
        "tags": [],
        "outputId": "49d2ab48-ac48-4267-9902-76606408790f",
        "colab": {
          "base_uri": "https://localhost:8080/"
        }
      },
      "outputs": [
        {
          "output_type": "stream",
          "name": "stderr",
          "text": [
            "100%|██████████| 100/100 [07:40<00:00,  4.61s/it]\n"
          ]
        }
      ],
      "source": [
        "data, topics_order_fixed = [], []\n",
        "\n",
        "for num, page in enumerate(tqdm(pages[:100])):\n",
        "    try:\n",
        "        res = parse_page(page)\n",
        "        data.append(res)\n",
        "\n",
        "        topics_order_fixed.append(topics_order[num])\n",
        "    except:\n",
        "        pass\n",
        "\n",
        "driver.close()"
      ]
    },
    {
      "cell_type": "markdown",
      "source": [
        "Преобразуем в датафрейм полученные данные."
      ],
      "metadata": {
        "id": "6VO2FvmuYogv"
      }
    },
    {
      "cell_type": "markdown",
      "source": [
        "## Вопрос 2\n",
        "\n",
        "Сколько столбцов в таблице `df`?"
      ],
      "metadata": {
        "id": "nZ6p6d2wYxUA"
      }
    },
    {
      "cell_type": "code",
      "execution_count": 13,
      "metadata": {
        "id": "58a2LzszXP0A",
        "tags": [],
        "outputId": "26d7ab6f-b0df-434c-f215-45363f894c34",
        "colab": {
          "base_uri": "https://localhost:8080/"
        }
      },
      "outputs": [
        {
          "output_type": "execute_result",
          "data": {
            "text/plain": [
              "(100, 6)"
            ]
          },
          "metadata": {},
          "execution_count": 13
        }
      ],
      "source": [
        "df = pd.DataFrame(data=data)\n",
        "\n",
        "df.shape"
      ]
    },
    {
      "cell_type": "markdown",
      "source": [
        "Добавьте в таблицу `df` столбец `topic`, содержащий список `topics_order_fixed`"
      ],
      "metadata": {
        "id": "spWPjAJhY3bL"
      }
    },
    {
      "cell_type": "code",
      "source": [
        "len(topics_order_fixed)"
      ],
      "metadata": {
        "id": "KWfNEp2OgZLV",
        "outputId": "6d6bba7c-cac5-4db0-c7f1-6786ca996109",
        "colab": {
          "base_uri": "https://localhost:8080/"
        }
      },
      "execution_count": 16,
      "outputs": [
        {
          "output_type": "execute_result",
          "data": {
            "text/plain": [
              "100"
            ]
          },
          "metadata": {},
          "execution_count": 16
        }
      ]
    },
    {
      "cell_type": "code",
      "source": [
        "df[\"topic\"] = topics_order_fixed"
      ],
      "metadata": {
        "id": "6LAnU5PyY1B2"
      },
      "execution_count": 17,
      "outputs": []
    },
    {
      "cell_type": "markdown",
      "source": [
        "## Вопрос 3\n",
        "\n",
        "Какой `topic` имеет новость из первой строки таблицы?"
      ],
      "metadata": {
        "id": "BWahmdaOZCXs"
      }
    },
    {
      "cell_type": "code",
      "source": [
        "df.head()"
      ],
      "metadata": {
        "id": "3rqKwLaMZLyt",
        "outputId": "bf7d7f6f-0ff4-49a5-cc94-b4800d09ae56",
        "colab": {
          "base_uri": "https://localhost:8080/",
          "height": 293
        }
      },
      "execution_count": 18,
      "outputs": [
        {
          "output_type": "execute_result",
          "data": {
            "text/plain": [
              "           id                                                url  \\\n",
              "0  1916472715  https://ria.ru/20231218/podmoskove-1916472715....   \n",
              "1  1916465345   https://ria.ru/20231218/smartfon-1916465345.html   \n",
              "2  1916464744     https://ria.ru/20231218/peskov-1916464744.html   \n",
              "3  1916460082  https://ria.ru/20231218/bolgariya-1916460082.html   \n",
              "4  1916450010  https://ria.ru/20231218/dyadya_vanya-191645001...   \n",
              "\n",
              "                                               title  \\\n",
              "0  Подмосковье и Белоруссия могут реализовывать и...   \n",
              "1      В России представили \"антишпионский\" смартфон   \n",
              "2  Песков прокомментировал небыстрое снижение цен...   \n",
              "3  Парламент Болгарии одобрил ограничения для НПЗ...   \n",
              "4  Товары \"Дядя Ваня\" завоевывают мир со знаком к...   \n",
              "\n",
              "                                            subtitle  \\\n",
              "0  Воробьев: Подмосковье и Белоруссия могут реали...   \n",
              "1  \"РОСА\" представила \"антишпионский\" смартфон \"Р...   \n",
              "2  Песков назвал небыстрое снижение цен на яйца и...   \n",
              "3  Парламент Болгарии, несмотря на протесты, одоб...   \n",
              "4                                                      \n",
              "\n",
              "                                             content          datetime  \\\n",
              "0  МИНСК, 18 дек – РИА Новости. Белоруссия и Моск...  13:17 18.12.2023   \n",
              "1  МОСКВА, 18 дек - РИА Новости. Научно-техническ...  13:02 18.12.2023   \n",
              "2  МОСКВА, 18 дек - РИА Новости. Небыстрое снижен...  13:01 18.12.2023   \n",
              "3  МОСКВА, 18 дек - РИА Новости. Народное собрани...  12:55 18.12.2023   \n",
              "4  МОСКВА, 18 дек - РИА Новости. Производитель ма...  12:22 18.12.2023   \n",
              "\n",
              "     topic  \n",
              "0  economy  \n",
              "1  economy  \n",
              "2  economy  \n",
              "3  economy  \n",
              "4  economy  "
            ],
            "text/html": [
              "\n",
              "  <div id=\"df-83fe0787-a224-4152-b90d-7063df9f318d\" class=\"colab-df-container\">\n",
              "    <div>\n",
              "<style scoped>\n",
              "    .dataframe tbody tr th:only-of-type {\n",
              "        vertical-align: middle;\n",
              "    }\n",
              "\n",
              "    .dataframe tbody tr th {\n",
              "        vertical-align: top;\n",
              "    }\n",
              "\n",
              "    .dataframe thead th {\n",
              "        text-align: right;\n",
              "    }\n",
              "</style>\n",
              "<table border=\"1\" class=\"dataframe\">\n",
              "  <thead>\n",
              "    <tr style=\"text-align: right;\">\n",
              "      <th></th>\n",
              "      <th>id</th>\n",
              "      <th>url</th>\n",
              "      <th>title</th>\n",
              "      <th>subtitle</th>\n",
              "      <th>content</th>\n",
              "      <th>datetime</th>\n",
              "      <th>topic</th>\n",
              "    </tr>\n",
              "  </thead>\n",
              "  <tbody>\n",
              "    <tr>\n",
              "      <th>0</th>\n",
              "      <td>1916472715</td>\n",
              "      <td>https://ria.ru/20231218/podmoskove-1916472715....</td>\n",
              "      <td>Подмосковье и Белоруссия могут реализовывать и...</td>\n",
              "      <td>Воробьев: Подмосковье и Белоруссия могут реали...</td>\n",
              "      <td>МИНСК, 18 дек – РИА Новости. Белоруссия и Моск...</td>\n",
              "      <td>13:17 18.12.2023</td>\n",
              "      <td>economy</td>\n",
              "    </tr>\n",
              "    <tr>\n",
              "      <th>1</th>\n",
              "      <td>1916465345</td>\n",
              "      <td>https://ria.ru/20231218/smartfon-1916465345.html</td>\n",
              "      <td>В России представили \"антишпионский\" смартфон</td>\n",
              "      <td>\"РОСА\" представила \"антишпионский\" смартфон \"Р...</td>\n",
              "      <td>МОСКВА, 18 дек - РИА Новости. Научно-техническ...</td>\n",
              "      <td>13:02 18.12.2023</td>\n",
              "      <td>economy</td>\n",
              "    </tr>\n",
              "    <tr>\n",
              "      <th>2</th>\n",
              "      <td>1916464744</td>\n",
              "      <td>https://ria.ru/20231218/peskov-1916464744.html</td>\n",
              "      <td>Песков прокомментировал небыстрое снижение цен...</td>\n",
              "      <td>Песков назвал небыстрое снижение цен на яйца и...</td>\n",
              "      <td>МОСКВА, 18 дек - РИА Новости. Небыстрое снижен...</td>\n",
              "      <td>13:01 18.12.2023</td>\n",
              "      <td>economy</td>\n",
              "    </tr>\n",
              "    <tr>\n",
              "      <th>3</th>\n",
              "      <td>1916460082</td>\n",
              "      <td>https://ria.ru/20231218/bolgariya-1916460082.html</td>\n",
              "      <td>Парламент Болгарии одобрил ограничения для НПЗ...</td>\n",
              "      <td>Парламент Болгарии, несмотря на протесты, одоб...</td>\n",
              "      <td>МОСКВА, 18 дек - РИА Новости. Народное собрани...</td>\n",
              "      <td>12:55 18.12.2023</td>\n",
              "      <td>economy</td>\n",
              "    </tr>\n",
              "    <tr>\n",
              "      <th>4</th>\n",
              "      <td>1916450010</td>\n",
              "      <td>https://ria.ru/20231218/dyadya_vanya-191645001...</td>\n",
              "      <td>Товары \"Дядя Ваня\" завоевывают мир со знаком к...</td>\n",
              "      <td></td>\n",
              "      <td>МОСКВА, 18 дек - РИА Новости. Производитель ма...</td>\n",
              "      <td>12:22 18.12.2023</td>\n",
              "      <td>economy</td>\n",
              "    </tr>\n",
              "  </tbody>\n",
              "</table>\n",
              "</div>\n",
              "    <div class=\"colab-df-buttons\">\n",
              "\n",
              "  <div class=\"colab-df-container\">\n",
              "    <button class=\"colab-df-convert\" onclick=\"convertToInteractive('df-83fe0787-a224-4152-b90d-7063df9f318d')\"\n",
              "            title=\"Convert this dataframe to an interactive table.\"\n",
              "            style=\"display:none;\">\n",
              "\n",
              "  <svg xmlns=\"http://www.w3.org/2000/svg\" height=\"24px\" viewBox=\"0 -960 960 960\">\n",
              "    <path d=\"M120-120v-720h720v720H120Zm60-500h600v-160H180v160Zm220 220h160v-160H400v160Zm0 220h160v-160H400v160ZM180-400h160v-160H180v160Zm440 0h160v-160H620v160ZM180-180h160v-160H180v160Zm440 0h160v-160H620v160Z\"/>\n",
              "  </svg>\n",
              "    </button>\n",
              "\n",
              "  <style>\n",
              "    .colab-df-container {\n",
              "      display:flex;\n",
              "      gap: 12px;\n",
              "    }\n",
              "\n",
              "    .colab-df-convert {\n",
              "      background-color: #E8F0FE;\n",
              "      border: none;\n",
              "      border-radius: 50%;\n",
              "      cursor: pointer;\n",
              "      display: none;\n",
              "      fill: #1967D2;\n",
              "      height: 32px;\n",
              "      padding: 0 0 0 0;\n",
              "      width: 32px;\n",
              "    }\n",
              "\n",
              "    .colab-df-convert:hover {\n",
              "      background-color: #E2EBFA;\n",
              "      box-shadow: 0px 1px 2px rgba(60, 64, 67, 0.3), 0px 1px 3px 1px rgba(60, 64, 67, 0.15);\n",
              "      fill: #174EA6;\n",
              "    }\n",
              "\n",
              "    .colab-df-buttons div {\n",
              "      margin-bottom: 4px;\n",
              "    }\n",
              "\n",
              "    [theme=dark] .colab-df-convert {\n",
              "      background-color: #3B4455;\n",
              "      fill: #D2E3FC;\n",
              "    }\n",
              "\n",
              "    [theme=dark] .colab-df-convert:hover {\n",
              "      background-color: #434B5C;\n",
              "      box-shadow: 0px 1px 3px 1px rgba(0, 0, 0, 0.15);\n",
              "      filter: drop-shadow(0px 1px 2px rgba(0, 0, 0, 0.3));\n",
              "      fill: #FFFFFF;\n",
              "    }\n",
              "  </style>\n",
              "\n",
              "    <script>\n",
              "      const buttonEl =\n",
              "        document.querySelector('#df-83fe0787-a224-4152-b90d-7063df9f318d button.colab-df-convert');\n",
              "      buttonEl.style.display =\n",
              "        google.colab.kernel.accessAllowed ? 'block' : 'none';\n",
              "\n",
              "      async function convertToInteractive(key) {\n",
              "        const element = document.querySelector('#df-83fe0787-a224-4152-b90d-7063df9f318d');\n",
              "        const dataTable =\n",
              "          await google.colab.kernel.invokeFunction('convertToInteractive',\n",
              "                                                    [key], {});\n",
              "        if (!dataTable) return;\n",
              "\n",
              "        const docLinkHtml = 'Like what you see? Visit the ' +\n",
              "          '<a target=\"_blank\" href=https://colab.research.google.com/notebooks/data_table.ipynb>data table notebook</a>'\n",
              "          + ' to learn more about interactive tables.';\n",
              "        element.innerHTML = '';\n",
              "        dataTable['output_type'] = 'display_data';\n",
              "        await google.colab.output.renderOutput(dataTable, element);\n",
              "        const docLink = document.createElement('div');\n",
              "        docLink.innerHTML = docLinkHtml;\n",
              "        element.appendChild(docLink);\n",
              "      }\n",
              "    </script>\n",
              "  </div>\n",
              "\n",
              "\n",
              "<div id=\"df-04c68412-8974-4daf-a186-be02d1e49fcd\">\n",
              "  <button class=\"colab-df-quickchart\" onclick=\"quickchart('df-04c68412-8974-4daf-a186-be02d1e49fcd')\"\n",
              "            title=\"Suggest charts\"\n",
              "            style=\"display:none;\">\n",
              "\n",
              "<svg xmlns=\"http://www.w3.org/2000/svg\" height=\"24px\"viewBox=\"0 0 24 24\"\n",
              "     width=\"24px\">\n",
              "    <g>\n",
              "        <path d=\"M19 3H5c-1.1 0-2 .9-2 2v14c0 1.1.9 2 2 2h14c1.1 0 2-.9 2-2V5c0-1.1-.9-2-2-2zM9 17H7v-7h2v7zm4 0h-2V7h2v10zm4 0h-2v-4h2v4z\"/>\n",
              "    </g>\n",
              "</svg>\n",
              "  </button>\n",
              "\n",
              "<style>\n",
              "  .colab-df-quickchart {\n",
              "      --bg-color: #E8F0FE;\n",
              "      --fill-color: #1967D2;\n",
              "      --hover-bg-color: #E2EBFA;\n",
              "      --hover-fill-color: #174EA6;\n",
              "      --disabled-fill-color: #AAA;\n",
              "      --disabled-bg-color: #DDD;\n",
              "  }\n",
              "\n",
              "  [theme=dark] .colab-df-quickchart {\n",
              "      --bg-color: #3B4455;\n",
              "      --fill-color: #D2E3FC;\n",
              "      --hover-bg-color: #434B5C;\n",
              "      --hover-fill-color: #FFFFFF;\n",
              "      --disabled-bg-color: #3B4455;\n",
              "      --disabled-fill-color: #666;\n",
              "  }\n",
              "\n",
              "  .colab-df-quickchart {\n",
              "    background-color: var(--bg-color);\n",
              "    border: none;\n",
              "    border-radius: 50%;\n",
              "    cursor: pointer;\n",
              "    display: none;\n",
              "    fill: var(--fill-color);\n",
              "    height: 32px;\n",
              "    padding: 0;\n",
              "    width: 32px;\n",
              "  }\n",
              "\n",
              "  .colab-df-quickchart:hover {\n",
              "    background-color: var(--hover-bg-color);\n",
              "    box-shadow: 0 1px 2px rgba(60, 64, 67, 0.3), 0 1px 3px 1px rgba(60, 64, 67, 0.15);\n",
              "    fill: var(--button-hover-fill-color);\n",
              "  }\n",
              "\n",
              "  .colab-df-quickchart-complete:disabled,\n",
              "  .colab-df-quickchart-complete:disabled:hover {\n",
              "    background-color: var(--disabled-bg-color);\n",
              "    fill: var(--disabled-fill-color);\n",
              "    box-shadow: none;\n",
              "  }\n",
              "\n",
              "  .colab-df-spinner {\n",
              "    border: 2px solid var(--fill-color);\n",
              "    border-color: transparent;\n",
              "    border-bottom-color: var(--fill-color);\n",
              "    animation:\n",
              "      spin 1s steps(1) infinite;\n",
              "  }\n",
              "\n",
              "  @keyframes spin {\n",
              "    0% {\n",
              "      border-color: transparent;\n",
              "      border-bottom-color: var(--fill-color);\n",
              "      border-left-color: var(--fill-color);\n",
              "    }\n",
              "    20% {\n",
              "      border-color: transparent;\n",
              "      border-left-color: var(--fill-color);\n",
              "      border-top-color: var(--fill-color);\n",
              "    }\n",
              "    30% {\n",
              "      border-color: transparent;\n",
              "      border-left-color: var(--fill-color);\n",
              "      border-top-color: var(--fill-color);\n",
              "      border-right-color: var(--fill-color);\n",
              "    }\n",
              "    40% {\n",
              "      border-color: transparent;\n",
              "      border-right-color: var(--fill-color);\n",
              "      border-top-color: var(--fill-color);\n",
              "    }\n",
              "    60% {\n",
              "      border-color: transparent;\n",
              "      border-right-color: var(--fill-color);\n",
              "    }\n",
              "    80% {\n",
              "      border-color: transparent;\n",
              "      border-right-color: var(--fill-color);\n",
              "      border-bottom-color: var(--fill-color);\n",
              "    }\n",
              "    90% {\n",
              "      border-color: transparent;\n",
              "      border-bottom-color: var(--fill-color);\n",
              "    }\n",
              "  }\n",
              "</style>\n",
              "\n",
              "  <script>\n",
              "    async function quickchart(key) {\n",
              "      const quickchartButtonEl =\n",
              "        document.querySelector('#' + key + ' button');\n",
              "      quickchartButtonEl.disabled = true;  // To prevent multiple clicks.\n",
              "      quickchartButtonEl.classList.add('colab-df-spinner');\n",
              "      try {\n",
              "        const charts = await google.colab.kernel.invokeFunction(\n",
              "            'suggestCharts', [key], {});\n",
              "      } catch (error) {\n",
              "        console.error('Error during call to suggestCharts:', error);\n",
              "      }\n",
              "      quickchartButtonEl.classList.remove('colab-df-spinner');\n",
              "      quickchartButtonEl.classList.add('colab-df-quickchart-complete');\n",
              "    }\n",
              "    (() => {\n",
              "      let quickchartButtonEl =\n",
              "        document.querySelector('#df-04c68412-8974-4daf-a186-be02d1e49fcd button');\n",
              "      quickchartButtonEl.style.display =\n",
              "        google.colab.kernel.accessAllowed ? 'block' : 'none';\n",
              "    })();\n",
              "  </script>\n",
              "</div>\n",
              "    </div>\n",
              "  </div>\n"
            ]
          },
          "metadata": {},
          "execution_count": 18
        }
      ]
    },
    {
      "cell_type": "markdown",
      "source": [
        "Сохраним скачанные данные в файл."
      ],
      "metadata": {
        "id": "Jk7cH3W6ZMop"
      }
    },
    {
      "cell_type": "code",
      "execution_count": 19,
      "metadata": {
        "id": "MLhAMKr-pFIi"
      },
      "outputs": [],
      "source": [
        "df.to_pickle(\"df_ria.p\", compression=\"gzip\")"
      ]
    },
    {
      "cell_type": "markdown",
      "source": [
        "## Вопрос 4\n",
        "\n",
        "Есть ли пропуски в каких-либо столбцах в таблице `df`?"
      ],
      "metadata": {
        "id": "_73x_cJcXVeG"
      }
    },
    {
      "cell_type": "code",
      "execution_count": 22,
      "metadata": {
        "id": "On9a3_YbpFIy",
        "outputId": "fde643f9-9285-475a-c008-e04be1c0c6f4",
        "colab": {
          "base_uri": "https://localhost:8080/"
        }
      },
      "outputs": [
        {
          "output_type": "execute_result",
          "data": {
            "text/plain": [
              "False"
            ]
          },
          "metadata": {},
          "execution_count": 22
        }
      ],
      "source": [
        "df.isna().any().any()"
      ]
    }
  ],
  "metadata": {
    "colab": {
      "provenance": [],
      "include_colab_link": true
    },
    "interpreter": {
      "hash": "403959ecd139c89f35081fab3d0ca535dfc149adc8a1d47a6d44f830632776ba"
    },
    "kernelspec": {
      "display_name": "Python 3 (ipykernel)",
      "language": "python",
      "name": "python3"
    },
    "language_info": {
      "codemirror_mode": {
        "name": "ipython",
        "version": 3
      },
      "file_extension": ".py",
      "mimetype": "text/x-python",
      "name": "python",
      "nbconvert_exporter": "python",
      "pygments_lexer": "ipython3",
      "version": "3.9.13"
    }
  },
  "nbformat": 4,
  "nbformat_minor": 0
}